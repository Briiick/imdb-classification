{
 "cells": [
  {
   "cell_type": "markdown",
   "id": "e11285c0-e816-41fd-98dc-5887f6ba9e37",
   "metadata": {
    "id": "e11285c0-e816-41fd-98dc-5887f6ba9e37"
   },
   "source": [
    "# IMDB Sentiment Classification\n",
    "\n",
    "### Alexander Bricken\n",
    "\n",
    "### Minerva University\n",
    "\n",
    "---"
   ]
  },
  {
   "cell_type": "markdown",
   "id": "f22dea27-72a4-46b9-a6fa-eafd05da5627",
   "metadata": {
    "id": "f22dea27-72a4-46b9-a6fa-eafd05da5627"
   },
   "source": [
    "The goal of this notebook is to take a pre-trained recent NLP model and apply it to classify the sentiment of movie reviews. The data is collected from the [Kaggle IMDB dataset](https://www.kaggle.com/columbine/imdb-dataset-sentiment-analysis-in-csv-format).\n",
    "\n",
    "The classification will be binary. Hence, either the movie review is 0 (bad) or 1 (good).\n",
    "\n",
    "The approach I take includes the following:\n",
    "- Data exploration: using Pandas Profiling to examine for any missing rows, duplicates, and other anomalies in the dataset.\n",
    "- BertTokenization: I tokenise the text for using Bert to capture the most information in embeddings. This allows me to record attention and standardise the length of input. Converts my words to numbers for BERT to interpret.\n",
    "- Train the model: forward and backward pass (feeding the input through the model and backpropagating it). Use DistilBERT. Update parameters accordingly. Track variables to monitor progress.\n",
    "- Evaluate the model: Using validation dataset get accuracy and loss. Perform fine-tuning and test results using test dataset. Output descriptive statistics and ROC curve to evaluate.\n",
    "\n",
    "---"
   ]
  },
  {
   "cell_type": "markdown",
   "id": "2c678033-b71b-4153-a97d-98248c35252d",
   "metadata": {
    "id": "2c678033-b71b-4153-a97d-98248c35252d"
   },
   "source": [
    "### Import Libraries"
   ]
  },
  {
   "cell_type": "code",
   "execution_count": 1,
   "id": "y86K7iwRfCr3",
   "metadata": {
    "colab": {
     "base_uri": "https://localhost:8080/"
    },
    "id": "y86K7iwRfCr3",
    "outputId": "7827d9f2-886f-44c8-e822-deaf867b84b1"
   },
   "outputs": [
    {
     "name": "stdout",
     "output_type": "stream",
     "text": [
      "Requirement already satisfied: wget in /usr/local/lib/python3.7/dist-packages (3.2)\n",
      "Requirement already satisfied: transformers in /usr/local/lib/python3.7/dist-packages (4.17.0)\n",
      "Requirement already satisfied: numpy>=1.17 in /usr/local/lib/python3.7/dist-packages (from transformers) (1.21.5)\n",
      "Requirement already satisfied: requests in /usr/local/lib/python3.7/dist-packages (from transformers) (2.23.0)\n",
      "Requirement already satisfied: sacremoses in /usr/local/lib/python3.7/dist-packages (from transformers) (0.0.47)\n",
      "Requirement already satisfied: packaging>=20.0 in /usr/local/lib/python3.7/dist-packages (from transformers) (21.3)\n",
      "Requirement already satisfied: huggingface-hub<1.0,>=0.1.0 in /usr/local/lib/python3.7/dist-packages (from transformers) (0.4.0)\n",
      "Requirement already satisfied: tokenizers!=0.11.3,>=0.11.1 in /usr/local/lib/python3.7/dist-packages (from transformers) (0.11.6)\n",
      "Requirement already satisfied: filelock in /usr/local/lib/python3.7/dist-packages (from transformers) (3.6.0)\n",
      "Requirement already satisfied: tqdm>=4.27 in /usr/local/lib/python3.7/dist-packages (from transformers) (4.63.0)\n",
      "Requirement already satisfied: importlib-metadata in /usr/local/lib/python3.7/dist-packages (from transformers) (4.11.2)\n",
      "Requirement already satisfied: pyyaml>=5.1 in /usr/local/lib/python3.7/dist-packages (from transformers) (6.0)\n",
      "Requirement already satisfied: regex!=2019.12.17 in /usr/local/lib/python3.7/dist-packages (from transformers) (2019.12.20)\n",
      "Requirement already satisfied: typing-extensions>=3.7.4.3 in /usr/local/lib/python3.7/dist-packages (from huggingface-hub<1.0,>=0.1.0->transformers) (3.10.0.2)\n",
      "Requirement already satisfied: pyparsing!=3.0.5,>=2.0.2 in /usr/local/lib/python3.7/dist-packages (from packaging>=20.0->transformers) (3.0.7)\n",
      "Requirement already satisfied: zipp>=0.5 in /usr/local/lib/python3.7/dist-packages (from importlib-metadata->transformers) (3.7.0)\n",
      "Requirement already satisfied: urllib3!=1.25.0,!=1.25.1,<1.26,>=1.21.1 in /usr/local/lib/python3.7/dist-packages (from requests->transformers) (1.24.3)\n",
      "Requirement already satisfied: idna<3,>=2.5 in /usr/local/lib/python3.7/dist-packages (from requests->transformers) (2.10)\n",
      "Requirement already satisfied: certifi>=2017.4.17 in /usr/local/lib/python3.7/dist-packages (from requests->transformers) (2021.10.8)\n",
      "Requirement already satisfied: chardet<4,>=3.0.2 in /usr/local/lib/python3.7/dist-packages (from requests->transformers) (3.0.4)\n",
      "Requirement already satisfied: click in /usr/local/lib/python3.7/dist-packages (from sacremoses->transformers) (7.1.2)\n",
      "Requirement already satisfied: joblib in /usr/local/lib/python3.7/dist-packages (from sacremoses->transformers) (1.1.0)\n",
      "Requirement already satisfied: six in /usr/local/lib/python3.7/dist-packages (from sacremoses->transformers) (1.15.0)\n"
     ]
    }
   ],
   "source": [
    "!pip install wget\n",
    "!pip install transformers"
   ]
  },
  {
   "cell_type": "code",
   "execution_count": 54,
   "id": "a9a95058-0378-4aa1-8aea-43763fc22e0d",
   "metadata": {
    "id": "a9a95058-0378-4aa1-8aea-43763fc22e0d"
   },
   "outputs": [],
   "source": [
    "import numpy as np\n",
    "import pandas as pd\n",
    "import matplotlib.pyplot as plt\n",
    "import nltk\n",
    "import seaborn as sns\n",
    "import sys\n",
    "import os\n",
    "import re\n",
    "import torch\n",
    "import random\n",
    "import tensorflow as tf\n",
    "import sklearn\n",
    "from transformers import BertModel, BertConfig, BertTokenizer, DistilBertForSequenceClassification, BertConfig, AdamW\n",
    "from transformers import get_linear_schedule_with_warmup\n",
    "from tensorflow import keras\n",
    "from torch.utils.data import DataLoader, RandomSampler, SequentialSampler\n",
    "from torch.utils.data import TensorDataset, random_split\n",
    "from sklearn.metrics import f1_score, confusion_matrix, plot_confusion_matrix, classification_report, accuracy_score, roc_curve, auc\n",
    "from pandas_profiling import ProfileReport\n",
    "from tqdm import tqdm\n",
    "import time\n",
    "import datetime\n",
    "\n",
    "# settings\n",
    "sns.set_theme(style=\"whitegrid\")\n",
    "seed_val = 42\n",
    "random.seed(seed_val)\n",
    "np.random.seed(seed_val)\n",
    "torch.manual_seed(seed_val)\n",
    "torch.cuda.manual_seed_all(seed_val)"
   ]
  },
  {
   "cell_type": "code",
   "execution_count": 3,
   "id": "kLK_vicpeb9T",
   "metadata": {
    "colab": {
     "base_uri": "https://localhost:8080/"
    },
    "id": "kLK_vicpeb9T",
    "outputId": "2cf4cba9-1e38-4b49-b5ff-05e30d124a83"
   },
   "outputs": [
    {
     "name": "stdout",
     "output_type": "stream",
     "text": [
      "GPU: /device:GPU:0\n",
      "GPU in use: Tesla T4\n"
     ]
    }
   ],
   "source": [
    "# GOOGLE COLLAB GPU CONNECTION CHECK\n",
    "device_name = tf.test.gpu_device_name()\n",
    "if device_name:\n",
    "    print(f'GPU: {device_name}')\n",
    "else:\n",
    "    print(\"Device not found.\")\n",
    "\n",
    "# CUDA connection. Tell PyTorch to use GPU.\n",
    "# taken from https://wandb.ai/wandb/common-ml-errors/reports/How-To-Use-GPU-with-PyTorch---VmlldzozMzAxMDk\n",
    "if torch.cuda.is_available():       \n",
    "    device = torch.device(\"cuda\")\n",
    "    print('GPU in use:', torch.cuda.get_device_name(0))\n",
    "else:\n",
    "    print('No GPU available, using the CPU instead.')\n",
    "    device = torch.device(\"cpu\")"
   ]
  },
  {
   "cell_type": "markdown",
   "id": "37bb14f6-4461-4632-a471-c52ce0933e6d",
   "metadata": {
    "id": "37bb14f6-4461-4632-a471-c52ce0933e6d"
   },
   "source": [
    "### Import Data"
   ]
  },
  {
   "cell_type": "code",
   "execution_count": 4,
   "id": "001be8fa-d92d-4fbd-b3d9-4126db314804",
   "metadata": {
    "id": "001be8fa-d92d-4fbd-b3d9-4126db314804"
   },
   "outputs": [],
   "source": [
    "train_data = pd.read_csv('Train.csv')\n",
    "test_data = pd.read_csv('Test.csv')\n",
    "valid_data = pd.read_csv('Valid.csv')"
   ]
  },
  {
   "cell_type": "code",
   "execution_count": 5,
   "id": "84c59f4e-8049-47f4-a0c4-616fda651f9a",
   "metadata": {
    "colab": {
     "base_uri": "https://localhost:8080/"
    },
    "id": "84c59f4e-8049-47f4-a0c4-616fda651f9a",
    "outputId": "dcb21139-1e25-48f2-b3dc-5f2a933bf5d2"
   },
   "outputs": [
    {
     "name": "stdout",
     "output_type": "stream",
     "text": [
      "number of train: 40000\n",
      "number of valid: 5000\n",
      "number of test: 5000\n"
     ]
    }
   ],
   "source": [
    "print('number of train:', len(train_data))\n",
    "print('number of valid:', len(valid_data))\n",
    "print('number of test:', len(test_data))"
   ]
  },
  {
   "cell_type": "markdown",
   "id": "9a319738-8ba3-4611-b0df-d73ac5af3076",
   "metadata": {
    "id": "9a319738-8ba3-4611-b0df-d73ac5af3076"
   },
   "source": [
    "### Data Exploration"
   ]
  },
  {
   "cell_type": "code",
   "execution_count": null,
   "id": "112059a6-cc61-4b24-ac93-58f4d3e56672",
   "metadata": {
    "id": "112059a6-cc61-4b24-ac93-58f4d3e56672"
   },
   "outputs": [],
   "source": [
    "# can be used in jupyter notebook/lab only. not Collab.\n",
    "profile = ProfileReport(train_data, title=\"Pandas Profiling Report\")\n",
    "profile.to_notebook_iframe()"
   ]
  },
  {
   "cell_type": "markdown",
   "id": "26be73ed-0d26-48a1-8b20-27fac66f62ec",
   "metadata": {
    "id": "26be73ed-0d26-48a1-8b20-27fac66f62ec"
   },
   "source": [
    "Our labels are split pretty equal at 20019 \"0s\" and 19981 \"1s\". We can see from the report that there are a 269 duplicate rows. Also, upon close examination of the general text itself, there are frequent $<br~/><br~/>$ HTML tags that we will have to remove."
   ]
  },
  {
   "cell_type": "markdown",
   "id": "9baebd13-144d-4899-a1a4-894835a5d11c",
   "metadata": {
    "id": "9baebd13-144d-4899-a1a4-894835a5d11c"
   },
   "source": [
    "### Data Cleaning"
   ]
  },
  {
   "cell_type": "markdown",
   "id": "655fd4e1-e5d9-42f7-b98c-b074b2bb6408",
   "metadata": {
    "id": "655fd4e1-e5d9-42f7-b98c-b074b2bb6408"
   },
   "source": [
    "In this section, as discovered in the EDA, we need to do the following:\n",
    "- Delete duplicate rows\n",
    "- Remove $<br~/><br~/>$ tagging\n",
    "- Lowercase everything\n",
    "\n",
    "We don't perform too much text cleaning, because BERT actually uses certain aspects of the text as contextual information. It is better, as explored in Bricken (2021), to only perform light cleaning when using a BERT model."
   ]
  },
  {
   "cell_type": "code",
   "execution_count": 6,
   "id": "d20f7c18-c3cd-4d17-bc24-bb4431d948f2",
   "metadata": {
    "id": "d20f7c18-c3cd-4d17-bc24-bb4431d948f2"
   },
   "outputs": [],
   "source": [
    "# remove duplicates\n",
    "train_data = train_data.drop_duplicates().reset_index(drop=True)"
   ]
  },
  {
   "cell_type": "code",
   "execution_count": 7,
   "id": "c1a578b6-81d3-45be-a756-ae3911931496",
   "metadata": {
    "id": "c1a578b6-81d3-45be-a756-ae3911931496"
   },
   "outputs": [],
   "source": [
    "def text_clean(x):\n",
    "    \"\"\"\n",
    "    A function using regex to remove unwanted pieces from the text for each review.\n",
    "    Input: a review.\n",
    "    Output: the cleaned review.\n",
    "    \"\"\"\n",
    "    # first we lowercase everything\n",
    "    x = x.lower()\n",
    "    # remove unicode characters\n",
    "    x = x.encode('ascii', 'ignore').decode()\n",
    "    # remove urls\n",
    "    x = re.sub(r'https*\\S+', ' ', x)\n",
    "    x = re.sub(r'http*\\S+', ' ', x)\n",
    "    # remove <br></br> tags\n",
    "    x = re.sub(r'<br \\/><br \\/>', ' ', x)\n",
    "    # remove ' \\ \"\n",
    "    x = re.sub(r\"\\\\\", \"\", x)\n",
    "    x = re.sub(r\"\\'\", \"\", x)\n",
    "    x = re.sub(r\"\\\"\", \"\", x)\n",
    "    # remove *\n",
    "    x = re.sub(r\"\\*\", \"\", x)\n",
    "    return x"
   ]
  },
  {
   "cell_type": "code",
   "execution_count": 8,
   "id": "823f5535-0c17-40e4-8682-04199650fc1a",
   "metadata": {
    "id": "823f5535-0c17-40e4-8682-04199650fc1a"
   },
   "outputs": [],
   "source": [
    "train_data['text'] = train_data['text'].apply(text_clean)\n",
    "test_data['text'] = test_data['text'].apply(text_clean)\n",
    "valid_data['text'] = valid_data['text'].apply(text_clean)"
   ]
  },
  {
   "cell_type": "code",
   "execution_count": 9,
   "id": "109e4c38-9c82-4608-8fc9-309b7ca0d6ad",
   "metadata": {
    "colab": {
     "base_uri": "https://localhost:8080/"
    },
    "id": "109e4c38-9c82-4608-8fc9-309b7ca0d6ad",
    "outputId": "7d87ee0b-a566-4fc1-e851-e45cdeae16f0"
   },
   "outputs": [
    {
     "data": {
      "text/plain": [
       "['there are similarities between ray lawrences jindabyne and his last movie lantana  a dead body and its repercussions for already dysfunctional lives. but whereas lantana offered some hope and resolution, jindabyne leaves everything unresolved in a bleak way that will leave most viewers unsatisfied, perhaps even cheated. the storyline - the aftermath of a fishermans discovery of a corpse floating in a remote river - is based on a short story by raymond carver. it became an element in robert altmans classic 1993 ensemble short cuts. lawrence uses this theme for an exploration and exposition of relationships within a small australian community under stress. the movie poses some moral questions would you let the discovery of a dead body ruin your good weekend? and more poignantly for australians would it make any difference if the dead person was an aboriginal? the acting, especially by gabriel byrne and laura linney, is commendable. and there are elements of mysticism reinforced by haunting music, not unlike picnic at hanging rock. if all this sounds like the basis for a great movie - be prepared for a let down, the pace is very slow and the murder is shown near the beginning, thereby eliminating the element of mystery. and so we are left with these desolate lives and a blank finale.',\n",
       " 'hammer house of horror: witching time is set in rural england on woodstock farm where stressed musician david winter (jon finch) lives with his actress wife mary (prunella gee) & is currently composing the music for a horror film. one night while looking for his dog billy david finds a mysterious woman in his barn, calling herself lucinda jessop (patricia quinn) she claims to be a witch who has transported herself from 300 years in the past to now. obviously rather sceptical david has a hard time believing her so he locks her in a room in his farmhouse & calls his doctor charles (ian mcculloch) to come examine her, however once he arrives & they enter the room lucinda has disappeared. charles puts it down to david drinking too much but over the next few day strange & disturbing things begin to happen to david & mary... witching time was episode 1 from the short lived british anthology horror series produced by hammer studios for tv & originally aired here in the uk during september 1980, the first of two hammer house of horror episodes to be directed by don leaver (episode 13 the mark of satan being the other) i actually rather liked this. as a series hammer house of horror dealt with various different themes & were all unconnected to each other except in name & unsurprisingly watching time is a sinister & effective little tale about a witch, the script by anthony read benefits from its slight 50 odd minute duration & moves along at a nice pace. the characters are pretty good as is the dialogue, there are some nice scenes here & i liked the way it never quite reveals whether david & mary are going crazy or not. i think its a well structured, entertaining & reasonably creepy horror themed tv show that i enjoyed more than i thought i would. being made for british tv meant the boys at hammer had a lower budget than usual, if that was even possible, & as such there is no gorgeous period settings here as in their most well know frankenstein & dracula films although the contemporary english setting does give it a certain atmosphere that you can relate to a bit more. another tv based restriction is that the exploitation levels are lower than you might hope for, theres some nudity & gore but not much although i didnt mind too much as the story here is pretty good. its well made for what it is & hammers experience on their feature films probably helped make these look pretty good, the acting is good as well with genre favourite ian mcculloch making a bit-part appearance. witching time is a good start to the hammer house of horror series, as a 50 minute piece of british tv its pretty damned good, now why dont they make shows like this over here anymore?',\n",
       " 'what a great cast for this movie. the timing was excellent and there were so many clever lines-several times i was still laughing minutes after they were delivered. i found manna from heaven to have some surprising moments and while there were things i was thinking would happen, the way they came together was anything but predictable. this movie is about hope and righting wrongs. i left the theater feeling inspired to do the right thing. bravo to the five sisters.']"
      ]
     },
     "execution_count": 9,
     "metadata": {},
     "output_type": "execute_result"
    }
   ],
   "source": [
    "# output some results\n",
    "list(train_data['text'].sample(3))"
   ]
  },
  {
   "cell_type": "markdown",
   "id": "475283e5-15c1-414a-ae4b-60d04bf829b7",
   "metadata": {
    "id": "475283e5-15c1-414a-ae4b-60d04bf829b7"
   },
   "source": [
    "### Data Preparation: Tokenisation"
   ]
  },
  {
   "cell_type": "code",
   "execution_count": 10,
   "id": "fec2c2b2-e7b0-43cc-86b0-43b018ff5e7d",
   "metadata": {
    "id": "fec2c2b2-e7b0-43cc-86b0-43b018ff5e7d"
   },
   "outputs": [],
   "source": [
    "PRE_TRAINED_MODEL_NAME = 'bert-base-uncased'\n",
    "tokenizer = BertTokenizer.from_pretrained(PRE_TRAINED_MODEL_NAME)"
   ]
  },
  {
   "cell_type": "markdown",
   "id": "6eecb7e7-b833-4432-b6e4-1d335ff797f9",
   "metadata": {
    "id": "6eecb7e7-b833-4432-b6e4-1d335ff797f9"
   },
   "source": [
    "To start with, because BERT works with fixed-length sequences, we need to choose the maximum length of the sequences to best represent the model. By storing the length of each Tweet, we can do this and evaluate the coverage.\n",
    "\n",
    "The maximum length for standard BERT is 512, so we can try that and see how much truncation we get (information loss should be recorded). However, as tested in retrospect, it is highly computationally expensive to increase the token length. As such, we restrain our truncation to 256 (half of 512) and test our model.\n",
    "\n",
    "Realistically, we are losing quite a lot of information here, but for sake of demonstration this is fine. If we were optimising for accuracy, we would of course increase this length of tokens, use a better model of BERT, and do even more fine-tuning."
   ]
  },
  {
   "cell_type": "code",
   "execution_count": 11,
   "id": "2fae1e12-3774-40ef-9f63-261944d197af",
   "metadata": {
    "id": "2fae1e12-3774-40ef-9f63-261944d197af",
    "tags": []
   },
   "outputs": [],
   "source": [
    "# we run this cell if we are able to optimise for max length\n",
    "# if majority of input strings are less than 512 in length\n",
    "# but here we max out because most are above.\n",
    "# \n",
    "# token_lens = []\n",
    "# for txt in list(train_data['text']):\n",
    "#     tokens = tokenizer.encode(txt, max_length=MAX_LENGTH, truncation=True)\n",
    "#     token_lens.append(len(tokens))"
   ]
  },
  {
   "cell_type": "code",
   "execution_count": 12,
   "id": "0412a7af-75e2-42dc-9ab7-8a778ed018b1",
   "metadata": {
    "id": "0412a7af-75e2-42dc-9ab7-8a778ed018b1"
   },
   "outputs": [],
   "source": [
    "# sns.displot(token_lens)\n",
    "# plt.xlim([0, MAX_LENGTH])\n",
    "# plt.xlabel('Token count')\n",
    "# plt.show()\n",
    "\n",
    "# we see that a lot of information is lost, \n",
    "# but perhaps the model still will have enough for sentiment analysis"
   ]
  },
  {
   "cell_type": "code",
   "execution_count": 13,
   "id": "ea219da9-775a-4a4f-9390-e159a3a2354b",
   "metadata": {
    "id": "ea219da9-775a-4a4f-9390-e159a3a2354b"
   },
   "outputs": [],
   "source": [
    "MAX_LENGTH = 256\n",
    "def bert_tokenizer(text):\n",
    "    \"\"\"\n",
    "    Function that runs the necessary steps for BERT tokenization.\n",
    "    Input: the text that we want to tokenize.\n",
    "    Output: the associated encoded input_ids and attention mask.\n",
    "    \"\"\"\n",
    "    encoding = tokenizer.encode_plus(\n",
    "    text,\n",
    "    max_length=MAX_LENGTH,\n",
    "    truncation=True,\n",
    "    return_token_type_ids=False,\n",
    "    add_special_tokens=True, # Add '[CLS]' and '[SEP]'\n",
    "    padding='max_length',\n",
    "    return_attention_mask=True,\n",
    "    return_tensors='pt',  # Return PyTorch tensors\n",
    "    )\n",
    "    return encoding['input_ids'][0], encoding['attention_mask'][0]"
   ]
  },
  {
   "cell_type": "markdown",
   "id": "5ac3fc61-79de-4752-8fb6-defc5bc36e3c",
   "metadata": {
    "id": "5ac3fc61-79de-4752-8fb6-defc5bc36e3c"
   },
   "source": [
    "We add the following four important specifications to our BertTokeniser to improve the performance and make BERT feasible:\n",
    "- Add special tokens to the start and end of each sentence [SEP] and [CLS].\n",
    "    - We add [SEP] as an artifact of knowing when a sentence ends.\n",
    "    - We add [CLS] to the beginnging of the sentence to make the model aware that we are performing a classification task.\n",
    "- Output the attention mask. This allows the model to differentiate between real tokens and padding tokens."
   ]
  },
  {
   "cell_type": "code",
   "execution_count": 14,
   "id": "6c68a326-7326-4a99-a1ed-c66145e3a88e",
   "metadata": {
    "id": "6c68a326-7326-4a99-a1ed-c66145e3a88e",
    "tags": []
   },
   "outputs": [],
   "source": [
    "# we shrink the data to 10000 train and \n",
    "# 2000 val/test because 39723 for train is too computationally expensive\n",
    "train_text = train_data['text']\n",
    "# train data tokenization\n",
    "train_tokenized_list = []\n",
    "train_attn_mask_list = []\n",
    "for text in list(train_text[0:10000]):\n",
    "    tokenized_text, attn_mask = bert_tokenizer(text)\n",
    "    train_tokenized_list.append(tokenized_text.numpy())\n",
    "    train_attn_mask_list.append(attn_mask.numpy())"
   ]
  },
  {
   "cell_type": "code",
   "execution_count": 15,
   "id": "41f1540b-55cb-4779-a50c-ae25468bf722",
   "metadata": {
    "id": "41f1540b-55cb-4779-a50c-ae25468bf722",
    "tags": []
   },
   "outputs": [],
   "source": [
    "test_text = test_data['text']\n",
    "# test data tokenization\n",
    "test_tokenized_list = []\n",
    "test_attn_mask_list = []\n",
    "for text in list(test_text[0:2000]):\n",
    "    tokenized_text, attn_mask = bert_tokenizer(text)\n",
    "    test_tokenized_list.append(tokenized_text.numpy())\n",
    "    test_attn_mask_list.append(attn_mask.numpy())"
   ]
  },
  {
   "cell_type": "code",
   "execution_count": 16,
   "id": "3a2ffcd9-442b-453a-a10e-a681d3154b68",
   "metadata": {
    "id": "3a2ffcd9-442b-453a-a10e-a681d3154b68",
    "tags": []
   },
   "outputs": [],
   "source": [
    "valid_text = valid_data['text']\n",
    "# valid data tokenization\n",
    "valid_tokenized_list = []\n",
    "valid_attn_mask_list = []\n",
    "for text in list(valid_text[0:2000]):\n",
    "    tokenized_text, attn_mask = bert_tokenizer(text)\n",
    "    valid_tokenized_list.append(tokenized_text.numpy())\n",
    "    valid_attn_mask_list.append(attn_mask.numpy())"
   ]
  },
  {
   "cell_type": "code",
   "execution_count": 17,
   "id": "0109c056-1610-4f69-8786-0cc4bae530db",
   "metadata": {
    "colab": {
     "base_uri": "https://localhost:8080/"
    },
    "id": "0109c056-1610-4f69-8786-0cc4bae530db",
    "outputId": "5aa3a2a8-a51e-4522-89b8-c1c9db34fdc0"
   },
   "outputs": [
    {
     "name": "stderr",
     "output_type": "stream",
     "text": [
      "/usr/local/lib/python3.7/dist-packages/ipykernel_launcher.py:2: UserWarning: Creating a tensor from a list of numpy.ndarrays is extremely slow. Please consider converting the list to a single numpy.ndarray with numpy.array() before converting to a tensor. (Triggered internally at  ../torch/csrc/utils/tensor_new.cpp:201.)\n",
      "  \n"
     ]
    }
   ],
   "source": [
    "# configure everything we have thus far\n",
    "X_train = torch.tensor(train_tokenized_list)\n",
    "X_test = torch.tensor(test_tokenized_list)\n",
    "X_valid = torch.tensor(valid_tokenized_list)\n",
    "                    \n",
    "# attention mask\n",
    "attn_train = torch.tensor(train_attn_mask_list)\n",
    "attn_test = torch.tensor(test_attn_mask_list)\n",
    "attn_valid = torch.tensor(valid_attn_mask_list)\n",
    "\n",
    "# labels\n",
    "y_train = torch.tensor(train_data['label'][0:10000])\n",
    "y_test = torch.tensor(test_data['label'][0:2000])\n",
    "y_valid = torch.tensor(valid_data['label'][0:2000])"
   ]
  },
  {
   "cell_type": "code",
   "execution_count": 18,
   "id": "2fadad7c-cc80-4f5f-b949-30604a0542b3",
   "metadata": {
    "colab": {
     "base_uri": "https://localhost:8080/"
    },
    "id": "2fadad7c-cc80-4f5f-b949-30604a0542b3",
    "outputId": "d0b77ab2-61e2-41cd-d7c4-fd2b51adab27"
   },
   "outputs": [
    {
     "name": "stdout",
     "output_type": "stream",
     "text": [
      "Length of X_train: 10000\n",
      "Length of attn_train: 10000\n",
      "Length of y_train: 10000 \n",
      "\n",
      "Length of X_test: 2000\n",
      "Length of attn_test: 2000\n",
      "Length of y_test: 2000 \n",
      "\n",
      "Length of X_valid: 2000\n",
      "Length of attn_valid: 2000\n",
      "Length of X_test: 2000\n"
     ]
    }
   ],
   "source": [
    "print(f\"Length of X_train: {len(X_train)}\")\n",
    "print(f\"Length of attn_train: {len(attn_train)}\")\n",
    "print(f\"Length of y_train: {len(y_train)} \\n\")\n",
    "print(f\"Length of X_test: {len(X_test)}\")\n",
    "print(f\"Length of attn_test: {len(attn_test)}\")\n",
    "print(f\"Length of y_test: {len(y_test)} \\n\")\n",
    "print(f\"Length of X_valid: {len(X_valid)}\")\n",
    "print(f\"Length of attn_valid: {len(attn_valid)}\")\n",
    "print(f\"Length of X_test: {len(y_valid)}\")"
   ]
  },
  {
   "cell_type": "code",
   "execution_count": 19,
   "id": "9kpWSt1XzD7K",
   "metadata": {
    "id": "9kpWSt1XzD7K"
   },
   "outputs": [],
   "source": [
    "# final configurations for input\n",
    "\n",
    "# Combine the inputs into a TensorDataset.\n",
    "train_dataset = TensorDataset(X_train, attn_train, y_train)\n",
    "\n",
    "# set up val dataset in the same way\n",
    "val_dataset = TensorDataset(X_valid, attn_valid, y_valid)"
   ]
  },
  {
   "cell_type": "code",
   "execution_count": 20,
   "id": "mfwQPHYH2whG",
   "metadata": {
    "colab": {
     "base_uri": "https://localhost:8080/"
    },
    "id": "mfwQPHYH2whG",
    "outputId": "e060c953-665a-4e66-b561-27320ac35c36"
   },
   "outputs": [
    {
     "name": "stdout",
     "output_type": "stream",
     "text": [
      "10000 training samples\n",
      "2000 validation samples\n"
     ]
    }
   ],
   "source": [
    "print(f'{len(train_dataset)} training samples')\n",
    "print(f'{len(val_dataset)} validation samples')"
   ]
  },
  {
   "cell_type": "markdown",
   "id": "e90cfb1c-4c3c-407d-8bc9-4d3e7863ae47",
   "metadata": {
    "id": "e90cfb1c-4c3c-407d-8bc9-4d3e7863ae47"
   },
   "source": [
    "### Modelling"
   ]
  },
  {
   "cell_type": "markdown",
   "id": "650c3c02-1a83-4987-ac31-a30af0ab9700",
   "metadata": {
    "id": "650c3c02-1a83-4987-ac31-a30af0ab9700"
   },
   "source": [
    "We start by making a dataloader. This way, we can save training memory by iterating through only some of the data as loaded memory instead of all at once. This is called batching."
   ]
  },
  {
   "cell_type": "code",
   "execution_count": 21,
   "id": "eb26ce0d-3fbd-4074-ac3e-fcfeab313181",
   "metadata": {
    "id": "eb26ce0d-3fbd-4074-ac3e-fcfeab313181"
   },
   "outputs": [],
   "source": [
    "batch_size = 16 \n",
    "# batch size 16 as per https://wandb.ai/jack-morris/david-vs-goliath/reports/Does-Model-Size-Matter-A-Comparison-of-BERT-and-DistilBERT--VmlldzoxMDUxNzU\n",
    "\n",
    "# initialise dataloader for train and validation datasets\n",
    "train_dataloader = DataLoader(train_dataset, sampler = RandomSampler(train_dataset), batch_size = batch_size)\n",
    "validation_dataloader = DataLoader(val_dataset, sampler = SequentialSampler(val_dataset), batch_size = batch_size)"
   ]
  },
  {
   "cell_type": "markdown",
   "id": "y7THqs-X02lm",
   "metadata": {
    "id": "y7THqs-X02lm"
   },
   "source": [
    "We use DistilBERT here for computational efficiency. It is smaller, faster, cheaper, and lighter, and still maintains up to 95% of the performance of normal BERT. \n",
    "\n",
    "If we wanted to increase our model's performance, we would use a larger BERT, but for this purpose, as we have done in truncating token length and limiting the size of the dataset, we are trying to demonstrate the feasibility of the model and not necessarily achieve highest accuracy."
   ]
  },
  {
   "cell_type": "code",
   "execution_count": 22,
   "id": "97121969-c9ce-4a86-bb40-d51c08d8780c",
   "metadata": {
    "colab": {
     "base_uri": "https://localhost:8080/"
    },
    "id": "97121969-c9ce-4a86-bb40-d51c08d8780c",
    "outputId": "6d554362-7cbe-4b6e-fef0-25db6c043212"
   },
   "outputs": [
    {
     "name": "stderr",
     "output_type": "stream",
     "text": [
      "Some weights of the model checkpoint at distilbert-base-uncased were not used when initializing DistilBertForSequenceClassification: ['vocab_layer_norm.weight', 'vocab_transform.weight', 'vocab_projector.weight', 'vocab_projector.bias', 'vocab_layer_norm.bias', 'vocab_transform.bias']\n",
      "- This IS expected if you are initializing DistilBertForSequenceClassification from the checkpoint of a model trained on another task or with another architecture (e.g. initializing a BertForSequenceClassification model from a BertForPreTraining model).\n",
      "- This IS NOT expected if you are initializing DistilBertForSequenceClassification from the checkpoint of a model that you expect to be exactly identical (initializing a BertForSequenceClassification model from a BertForSequenceClassification model).\n",
      "Some weights of DistilBertForSequenceClassification were not initialized from the model checkpoint at distilbert-base-uncased and are newly initialized: ['classifier.weight', 'pre_classifier.bias', 'classifier.bias', 'pre_classifier.weight']\n",
      "You should probably TRAIN this model on a down-stream task to be able to use it for predictions and inference.\n"
     ]
    },
    {
     "data": {
      "text/plain": [
       "DistilBertForSequenceClassification(\n",
       "  (distilbert): DistilBertModel(\n",
       "    (embeddings): Embeddings(\n",
       "      (word_embeddings): Embedding(30522, 768, padding_idx=0)\n",
       "      (position_embeddings): Embedding(512, 768)\n",
       "      (LayerNorm): LayerNorm((768,), eps=1e-12, elementwise_affine=True)\n",
       "      (dropout): Dropout(p=0.1, inplace=False)\n",
       "    )\n",
       "    (transformer): Transformer(\n",
       "      (layer): ModuleList(\n",
       "        (0): TransformerBlock(\n",
       "          (attention): MultiHeadSelfAttention(\n",
       "            (dropout): Dropout(p=0.1, inplace=False)\n",
       "            (q_lin): Linear(in_features=768, out_features=768, bias=True)\n",
       "            (k_lin): Linear(in_features=768, out_features=768, bias=True)\n",
       "            (v_lin): Linear(in_features=768, out_features=768, bias=True)\n",
       "            (out_lin): Linear(in_features=768, out_features=768, bias=True)\n",
       "          )\n",
       "          (sa_layer_norm): LayerNorm((768,), eps=1e-12, elementwise_affine=True)\n",
       "          (ffn): FFN(\n",
       "            (dropout): Dropout(p=0.1, inplace=False)\n",
       "            (lin1): Linear(in_features=768, out_features=3072, bias=True)\n",
       "            (lin2): Linear(in_features=3072, out_features=768, bias=True)\n",
       "            (activation): GELUActivation()\n",
       "          )\n",
       "          (output_layer_norm): LayerNorm((768,), eps=1e-12, elementwise_affine=True)\n",
       "        )\n",
       "        (1): TransformerBlock(\n",
       "          (attention): MultiHeadSelfAttention(\n",
       "            (dropout): Dropout(p=0.1, inplace=False)\n",
       "            (q_lin): Linear(in_features=768, out_features=768, bias=True)\n",
       "            (k_lin): Linear(in_features=768, out_features=768, bias=True)\n",
       "            (v_lin): Linear(in_features=768, out_features=768, bias=True)\n",
       "            (out_lin): Linear(in_features=768, out_features=768, bias=True)\n",
       "          )\n",
       "          (sa_layer_norm): LayerNorm((768,), eps=1e-12, elementwise_affine=True)\n",
       "          (ffn): FFN(\n",
       "            (dropout): Dropout(p=0.1, inplace=False)\n",
       "            (lin1): Linear(in_features=768, out_features=3072, bias=True)\n",
       "            (lin2): Linear(in_features=3072, out_features=768, bias=True)\n",
       "            (activation): GELUActivation()\n",
       "          )\n",
       "          (output_layer_norm): LayerNorm((768,), eps=1e-12, elementwise_affine=True)\n",
       "        )\n",
       "        (2): TransformerBlock(\n",
       "          (attention): MultiHeadSelfAttention(\n",
       "            (dropout): Dropout(p=0.1, inplace=False)\n",
       "            (q_lin): Linear(in_features=768, out_features=768, bias=True)\n",
       "            (k_lin): Linear(in_features=768, out_features=768, bias=True)\n",
       "            (v_lin): Linear(in_features=768, out_features=768, bias=True)\n",
       "            (out_lin): Linear(in_features=768, out_features=768, bias=True)\n",
       "          )\n",
       "          (sa_layer_norm): LayerNorm((768,), eps=1e-12, elementwise_affine=True)\n",
       "          (ffn): FFN(\n",
       "            (dropout): Dropout(p=0.1, inplace=False)\n",
       "            (lin1): Linear(in_features=768, out_features=3072, bias=True)\n",
       "            (lin2): Linear(in_features=3072, out_features=768, bias=True)\n",
       "            (activation): GELUActivation()\n",
       "          )\n",
       "          (output_layer_norm): LayerNorm((768,), eps=1e-12, elementwise_affine=True)\n",
       "        )\n",
       "        (3): TransformerBlock(\n",
       "          (attention): MultiHeadSelfAttention(\n",
       "            (dropout): Dropout(p=0.1, inplace=False)\n",
       "            (q_lin): Linear(in_features=768, out_features=768, bias=True)\n",
       "            (k_lin): Linear(in_features=768, out_features=768, bias=True)\n",
       "            (v_lin): Linear(in_features=768, out_features=768, bias=True)\n",
       "            (out_lin): Linear(in_features=768, out_features=768, bias=True)\n",
       "          )\n",
       "          (sa_layer_norm): LayerNorm((768,), eps=1e-12, elementwise_affine=True)\n",
       "          (ffn): FFN(\n",
       "            (dropout): Dropout(p=0.1, inplace=False)\n",
       "            (lin1): Linear(in_features=768, out_features=3072, bias=True)\n",
       "            (lin2): Linear(in_features=3072, out_features=768, bias=True)\n",
       "            (activation): GELUActivation()\n",
       "          )\n",
       "          (output_layer_norm): LayerNorm((768,), eps=1e-12, elementwise_affine=True)\n",
       "        )\n",
       "        (4): TransformerBlock(\n",
       "          (attention): MultiHeadSelfAttention(\n",
       "            (dropout): Dropout(p=0.1, inplace=False)\n",
       "            (q_lin): Linear(in_features=768, out_features=768, bias=True)\n",
       "            (k_lin): Linear(in_features=768, out_features=768, bias=True)\n",
       "            (v_lin): Linear(in_features=768, out_features=768, bias=True)\n",
       "            (out_lin): Linear(in_features=768, out_features=768, bias=True)\n",
       "          )\n",
       "          (sa_layer_norm): LayerNorm((768,), eps=1e-12, elementwise_affine=True)\n",
       "          (ffn): FFN(\n",
       "            (dropout): Dropout(p=0.1, inplace=False)\n",
       "            (lin1): Linear(in_features=768, out_features=3072, bias=True)\n",
       "            (lin2): Linear(in_features=3072, out_features=768, bias=True)\n",
       "            (activation): GELUActivation()\n",
       "          )\n",
       "          (output_layer_norm): LayerNorm((768,), eps=1e-12, elementwise_affine=True)\n",
       "        )\n",
       "        (5): TransformerBlock(\n",
       "          (attention): MultiHeadSelfAttention(\n",
       "            (dropout): Dropout(p=0.1, inplace=False)\n",
       "            (q_lin): Linear(in_features=768, out_features=768, bias=True)\n",
       "            (k_lin): Linear(in_features=768, out_features=768, bias=True)\n",
       "            (v_lin): Linear(in_features=768, out_features=768, bias=True)\n",
       "            (out_lin): Linear(in_features=768, out_features=768, bias=True)\n",
       "          )\n",
       "          (sa_layer_norm): LayerNorm((768,), eps=1e-12, elementwise_affine=True)\n",
       "          (ffn): FFN(\n",
       "            (dropout): Dropout(p=0.1, inplace=False)\n",
       "            (lin1): Linear(in_features=768, out_features=3072, bias=True)\n",
       "            (lin2): Linear(in_features=3072, out_features=768, bias=True)\n",
       "            (activation): GELUActivation()\n",
       "          )\n",
       "          (output_layer_norm): LayerNorm((768,), eps=1e-12, elementwise_affine=True)\n",
       "        )\n",
       "      )\n",
       "    )\n",
       "  )\n",
       "  (pre_classifier): Linear(in_features=768, out_features=768, bias=True)\n",
       "  (classifier): Linear(in_features=768, out_features=2, bias=True)\n",
       "  (dropout): Dropout(p=0.2, inplace=False)\n",
       ")"
      ]
     },
     "execution_count": 22,
     "metadata": {},
     "output_type": "execute_result"
    }
   ],
   "source": [
    "bert_model_name = \"distilbert-base-uncased\"\n",
    "model = DistilBertForSequenceClassification.from_pretrained(\n",
    "    bert_model_name, # we use distilbert for computational efficiency.\n",
    "    num_labels = 2, # binary classification\n",
    "    output_attentions = False, # we don't need attention weights or hidden states\n",
    "    output_hidden_states = False,\n",
    ")\n",
    "\n",
    "# we initialise model to cuda (connection to GPU)\n",
    "model.cuda()"
   ]
  },
  {
   "cell_type": "markdown",
   "id": "SkwBJp0w1uca",
   "metadata": {
    "id": "SkwBJp0w1uca"
   },
   "source": [
    "We use AdamW (Adaptive Moment Estimation) optimizer here because it works with momentums of first and second order. Essentially, it is a good optimizer for gradient descent because we don’t want to jump over the minimum, we want to decrease the velocity a little bit for a careful search. AdamW does this."
   ]
  },
  {
   "cell_type": "code",
   "execution_count": 23,
   "id": "1bb8addc-1dfa-4778-845b-a056b2b8c92e",
   "metadata": {
    "colab": {
     "base_uri": "https://localhost:8080/"
    },
    "id": "1bb8addc-1dfa-4778-845b-a056b2b8c92e",
    "outputId": "2401f7bd-35f7-43dd-a07d-41e4965eef33"
   },
   "outputs": [
    {
     "name": "stderr",
     "output_type": "stream",
     "text": [
      "/usr/local/lib/python3.7/dist-packages/transformers/optimization.py:309: FutureWarning: This implementation of AdamW is deprecated and will be removed in a future version. Use the PyTorch implementation torch.optim.AdamW instead, or set `no_deprecation_warning=True` to disable this warning\n",
      "  FutureWarning,\n"
     ]
    }
   ],
   "source": [
    "# we use AdamW optimizer.\n",
    "optimizer = AdamW(model.parameters(),\n",
    "                  lr = 3e-5, # our learning rate is initialised to be as recommended for DistilBERT\n",
    "                  eps = 1e-8 # keep eps normal.\n",
    "                )"
   ]
  },
  {
   "cell_type": "code",
   "execution_count": 30,
   "id": "5599c0e2-09f6-4359-bdad-f0abef420c2c",
   "metadata": {
    "id": "5599c0e2-09f6-4359-bdad-f0abef420c2c"
   },
   "outputs": [],
   "source": [
    "# if we start with 3 epochs and examine our loss, we can figure out if\n",
    "# we need early stopping, or need more or less epochs/warmups.\n",
    "epochs = 3\n",
    "\n",
    "# number of batches x number of epochs is the total steps we need to make\n",
    "total_steps = len(train_dataloader) * epochs\n",
    "\n",
    "# this initialises our learning schedule\n",
    "scheduler = get_linear_schedule_with_warmup(optimizer, \n",
    "                                            num_warmup_steps = 0,\n",
    "                                            num_training_steps = total_steps)"
   ]
  },
  {
   "cell_type": "code",
   "execution_count": 31,
   "id": "fa7cb06e-0a83-47e5-ba4e-9791601fbe5a",
   "metadata": {
    "id": "fa7cb06e-0a83-47e5-ba4e-9791601fbe5a"
   },
   "outputs": [],
   "source": [
    "def accuracy_out(preds, labels):\n",
    "    \"\"\"\n",
    "    Use argmax function to turn our logit probabilities into final classification.\n",
    "    Input: predictions as logit probabilities for each 1 or 0 classification and true labels.\n",
    "    Output: The accuracy of the predictions as a decimal between 0 and 1.\n",
    "    \"\"\"\n",
    "    predictions = np.argmax(preds, axis=1).flatten() # take the argmax\n",
    "    labelling = labels.flatten() # flatten the labels for each batch\n",
    "    return np.sum(predictions == labelling) / len(labelling) # calculate accuracy (number right) / total"
   ]
  },
  {
   "cell_type": "code",
   "execution_count": 32,
   "id": "9e34aadc-94e6-4aaa-93ec-c20786c714ac",
   "metadata": {
    "id": "9e34aadc-94e6-4aaa-93ec-c20786c714ac"
   },
   "outputs": [],
   "source": [
    "# initialise storage and time for training.\n",
    "training_stats = []\n",
    "total_t0 = time.time()"
   ]
  },
  {
   "cell_type": "markdown",
   "id": "WalLhwprGIdS",
   "metadata": {
    "id": "WalLhwprGIdS"
   },
   "source": [
    "This next code cell is where we train and test out model on a validation set to record the performance on newly seen data for each epoch. By doing so, we can find the best number of epochs, check if the model is overfitting, and evaluate our hyperparameters etc."
   ]
  },
  {
   "cell_type": "code",
   "execution_count": 33,
   "id": "32270a70-7161-4ee8-8c15-eff78a455fcf",
   "metadata": {
    "colab": {
     "base_uri": "https://localhost:8080/"
    },
    "id": "32270a70-7161-4ee8-8c15-eff78a455fcf",
    "outputId": "4ef4b764-ce5d-4c34-b620-571aa5f2272c"
   },
   "outputs": [
    {
     "name": "stdout",
     "output_type": "stream",
     "text": [
      "\n",
      "======== Epoch 1 / 3 ========\n",
      "Training...\n",
      "Batch 50 of 625. Elapsed: 20.24 seconds.\n",
      "Batch 100 of 625. Elapsed: 40.24 seconds.\n",
      "Batch 150 of 625. Elapsed: 59.29 seconds.\n",
      "Batch 200 of 625. Elapsed: 78.47 seconds.\n",
      "Batch 250 of 625. Elapsed: 98.21 seconds.\n",
      "Batch 300 of 625. Elapsed: 117.94 seconds.\n",
      "Batch 350 of 625. Elapsed: 137.37 seconds.\n",
      "Batch 400 of 625. Elapsed: 156.8 seconds.\n",
      "Batch 450 of 625. Elapsed: 176.49 seconds.\n",
      "Batch 500 of 625. Elapsed: 196.08 seconds.\n",
      "Batch 550 of 625. Elapsed: 215.59 seconds.\n",
      "Batch 600 of 625. Elapsed: 235.02 seconds.\n",
      "\n",
      "\n",
      "Average training loss: 0.2599819464504719\n",
      "Training epoch took:  244.69\n",
      "\n",
      "Running Validation...\n",
      "Validation Accuracy: 0.91\n",
      "Validation Loss:  0.24\n",
      "\n",
      "======== Epoch 2 / 3 ========\n",
      "Training...\n",
      "Batch 50 of 625. Elapsed: 19.61 seconds.\n",
      "Batch 100 of 625. Elapsed: 39.2 seconds.\n",
      "Batch 150 of 625. Elapsed: 58.75 seconds.\n",
      "Batch 200 of 625. Elapsed: 78.37 seconds.\n",
      "Batch 250 of 625. Elapsed: 98.23 seconds.\n",
      "Batch 300 of 625. Elapsed: 118.06 seconds.\n",
      "Batch 350 of 625. Elapsed: 137.65 seconds.\n",
      "Batch 400 of 625. Elapsed: 157.1 seconds.\n",
      "Batch 450 of 625. Elapsed: 176.52 seconds.\n",
      "Batch 500 of 625. Elapsed: 195.89 seconds.\n",
      "Batch 550 of 625. Elapsed: 215.3 seconds.\n",
      "Batch 600 of 625. Elapsed: 234.73 seconds.\n",
      "\n",
      "\n",
      "Average training loss: 0.13168398306928575\n",
      "Training epoch took:  244.47\n",
      "\n",
      "Running Validation...\n",
      "Validation Accuracy: 0.9\n",
      "Validation Loss:  0.35\n",
      "\n",
      "======== Epoch 3 / 3 ========\n",
      "Training...\n",
      "Batch 50 of 625. Elapsed: 19.54 seconds.\n",
      "Batch 100 of 625. Elapsed: 38.97 seconds.\n",
      "Batch 150 of 625. Elapsed: 58.43 seconds.\n",
      "Batch 200 of 625. Elapsed: 77.85 seconds.\n",
      "Batch 250 of 625. Elapsed: 97.32 seconds.\n",
      "Batch 300 of 625. Elapsed: 116.81 seconds.\n",
      "Batch 350 of 625. Elapsed: 136.35 seconds.\n",
      "Batch 400 of 625. Elapsed: 155.98 seconds.\n",
      "Batch 450 of 625. Elapsed: 175.53 seconds.\n",
      "Batch 500 of 625. Elapsed: 195.07 seconds.\n",
      "Batch 550 of 625. Elapsed: 214.67 seconds.\n",
      "Batch 600 of 625. Elapsed: 234.23 seconds.\n",
      "\n",
      "\n",
      "Average training loss: 0.05595344244129956\n",
      "Training epoch took:  244.02\n",
      "\n",
      "Running Validation...\n",
      "Validation Accuracy: 0.9\n",
      "Validation Loss:  0.45\n",
      "Training complete.\n",
      "Total training taken (sec): 786.87\n"
     ]
    }
   ],
   "source": [
    "# pytorch training structure taken from:\n",
    "# https://mccormickml.com/2019/07/22/BERT-fine-tuning/\n",
    "\n",
    "for epoch_i in range(0, epochs):\n",
    "    \n",
    "    ################\n",
    "    ### TRAINING ###\n",
    "    ################\n",
    "\n",
    "    print(\"\")\n",
    "    print(f'======== Epoch {epoch_i + 1} / {epochs} ========')\n",
    "    print('Training...')\n",
    "\n",
    "    # start timer\n",
    "    t0 = time.time()\n",
    "    # reset loss for this epoch\n",
    "    total_train_loss = 0\n",
    "\n",
    "    # model mode into train.\n",
    "    # https://stackoverflow.com/questions/51433378/what-does-model-train-do-in-pytorch\n",
    "    model.train()\n",
    "\n",
    "    # now go by batch within epochs.\n",
    "    # we use the dataloader here\n",
    "    for step, batch in enumerate(train_dataloader):\n",
    "        # progress report\n",
    "        if step % 50 == 0 and not step == 0:\n",
    "            elapsed = time.time() - t0\n",
    "            print(f\"Batch {step} of {len(train_dataloader)}. Elapsed: {round(elapsed, 2)} seconds.\")\n",
    "\n",
    "        # unpack and send each tensor to the GPU\n",
    "        b_input_ids = batch[0].to(device)\n",
    "        b_input_mask = batch[1].to(device)\n",
    "        b_labels = batch[2].to(device)\n",
    "\n",
    "        # clear gradients before backward pass\n",
    "        # https://stackoverflow.com/questions/48001598/why-do-we-need-to-call-zero-grad-in-pytorch\n",
    "        model.zero_grad()\n",
    "\n",
    "        # call model() for forward pass\n",
    "        # https://huggingface.co/transformers/model_doc/bert.html#bertforsequenceclassification\n",
    "        result = model(b_input_ids, \n",
    "                       attention_mask=b_input_mask, \n",
    "                       labels=b_labels,\n",
    "                       return_dict=True)\n",
    "\n",
    "        # we get the loss because we know true labels.\n",
    "        # and the logits which are the outputs of the model \n",
    "        # we just need to turn from log to normal probabilities\n",
    "        # and then use argmax to find the predicted probability of each\n",
    "        # classification 0 or 1 for sentiment classification\n",
    "        loss = result.loss\n",
    "        logits = result.logits\n",
    "\n",
    "        # we need total training loss to then calc average loss across epochs\n",
    "        total_train_loss += loss.item()\n",
    "\n",
    "        # backprop\n",
    "        loss.backward()\n",
    "\n",
    "        # clip the norm of the gradients to 1.0 to help prevent the \"exploding gradients\" problem\n",
    "        torch.nn.utils.clip_grad_norm_(model.parameters(), 1.0)\n",
    "\n",
    "        # we use AdamW optimiser because parameters are modified based on their gradients, the learning rate, etc.\n",
    "        # this takes a step in the calculated gradient\n",
    "        optimizer.step()\n",
    "\n",
    "        # update learning rate\n",
    "        scheduler.step()\n",
    "\n",
    "    # calculate the average loss over all of the batches\n",
    "    avg_train_loss = total_train_loss / len(train_dataloader)            \n",
    "    # measure how long this epoch took\n",
    "    training_time = time.time() - t0\n",
    "\n",
    "    print(\"\\n\")\n",
    "    print(\"Average training loss:\", avg_train_loss)\n",
    "    print(\"Training epoch took: \", round(training_time, 2))\n",
    "        \n",
    "    ##################\n",
    "    ### Validation ###\n",
    "    ##################\n",
    "\n",
    "    print(\"\")\n",
    "    print(\"Running Validation...\")\n",
    "\n",
    "    t0 = time.time()\n",
    "\n",
    "    # we change the model to evaluation mode for validation (PyTorch)\n",
    "    model.eval()\n",
    "\n",
    "    # initialise accurancy, loss, and step count\n",
    "    total_eval_accuracy = 0\n",
    "    total_eval_loss = 0\n",
    "    nb_eval_steps = 0\n",
    "\n",
    "    # we use validation dataloader\n",
    "    for batch in validation_dataloader:\n",
    "        \n",
    "        # again unpack pieces of data\n",
    "        b_input_ids = batch[0].to(device)\n",
    "        b_input_mask = batch[1].to(device)\n",
    "        b_labels = batch[2].to(device)\n",
    "        \n",
    "        # grad not needed for val (only for backprop training)\n",
    "        with torch.no_grad():        \n",
    "\n",
    "            # run model forward pass\n",
    "            result = model(b_input_ids, \n",
    "                           attention_mask=b_input_mask,\n",
    "                           labels=b_labels,\n",
    "                           return_dict=True)\n",
    "\n",
    "        # again output loss and logits for val dataset\n",
    "        loss = result.loss\n",
    "        logits = result.logits\n",
    "            \n",
    "        # sum up all losses\n",
    "        total_eval_loss += loss.item()\n",
    "\n",
    "        # move logits and labels to CPU\n",
    "        logits = logits.detach().cpu().numpy()\n",
    "        label_ids = b_labels.to('cpu').numpy()\n",
    "\n",
    "        # calculate total accuracy using acc function\n",
    "        total_eval_accuracy += accuracy_out(logits, label_ids)\n",
    "\n",
    "    ####################\n",
    "    ### EPOCH OUTPUT ###\n",
    "    ####################\n",
    "\n",
    "    # average valid dataset accuracy and loss calculations\n",
    "    avg_val_accuracy = total_eval_accuracy / len(validation_dataloader)\n",
    "    print(\"Validation Accuracy:\", round(avg_val_accuracy, 2))\n",
    "    avg_val_loss = total_eval_loss / len(validation_dataloader)\n",
    "    print(\"Validation Loss: \", round(avg_val_loss, 2))\n",
    "\n",
    "    # record the states of this epoch for performance analysis\n",
    "    training_stats.append(\n",
    "        {\n",
    "            'epoch': epoch_i + 1,\n",
    "            'Training Loss': avg_train_loss,\n",
    "            'Valid. Loss': avg_val_loss,\n",
    "            'Valid. Accur.': avg_val_accuracy,\n",
    "            'Training Time': training_time,\n",
    "        }\n",
    "    )\n",
    "\n",
    "print(\"Training complete.\")\n",
    "\n",
    "print(\"Total training taken (sec):\", round(time.time() - total_t0, 2))"
   ]
  },
  {
   "cell_type": "markdown",
   "id": "dcb736b1-1278-4f13-8d17-298356b8b0c8",
   "metadata": {
    "id": "dcb736b1-1278-4f13-8d17-298356b8b0c8"
   },
   "source": [
    "### Model Evaluation\n",
    "\n",
    "We need to evaluate the performance of our model by outputting the associated loss and accuracy across validation data for each epoch. By examining the overall scores and the trend over time, we can see if the model is overfitting and how well it is performing in general."
   ]
  },
  {
   "cell_type": "code",
   "execution_count": 34,
   "id": "eHg0qtvzkaU1",
   "metadata": {
    "colab": {
     "base_uri": "https://localhost:8080/",
     "height": 175
    },
    "id": "eHg0qtvzkaU1",
    "outputId": "6a38f257-2111-4dee-8fdc-e7d059ef021e"
   },
   "outputs": [
    {
     "data": {
      "text/html": [
       "\n",
       "  <div id=\"df-3b6b1911-13c3-4ae8-8fbc-d138b94d6b79\">\n",
       "    <div class=\"colab-df-container\">\n",
       "      <div>\n",
       "<style scoped>\n",
       "    .dataframe tbody tr th:only-of-type {\n",
       "        vertical-align: middle;\n",
       "    }\n",
       "\n",
       "    .dataframe tbody tr th {\n",
       "        vertical-align: top;\n",
       "    }\n",
       "\n",
       "    .dataframe thead th {\n",
       "        text-align: right;\n",
       "    }\n",
       "</style>\n",
       "<table border=\"1\" class=\"dataframe\">\n",
       "  <thead>\n",
       "    <tr style=\"text-align: right;\">\n",
       "      <th></th>\n",
       "      <th>Training Loss</th>\n",
       "      <th>Valid. Loss</th>\n",
       "      <th>Valid. Accur.</th>\n",
       "      <th>Training Time</th>\n",
       "    </tr>\n",
       "    <tr>\n",
       "      <th>epoch</th>\n",
       "      <th></th>\n",
       "      <th></th>\n",
       "      <th></th>\n",
       "      <th></th>\n",
       "    </tr>\n",
       "  </thead>\n",
       "  <tbody>\n",
       "    <tr>\n",
       "      <th>1</th>\n",
       "      <td>0.259982</td>\n",
       "      <td>0.236977</td>\n",
       "      <td>0.9130</td>\n",
       "      <td>244.687517</td>\n",
       "    </tr>\n",
       "    <tr>\n",
       "      <th>2</th>\n",
       "      <td>0.131684</td>\n",
       "      <td>0.345489</td>\n",
       "      <td>0.9025</td>\n",
       "      <td>244.468211</td>\n",
       "    </tr>\n",
       "    <tr>\n",
       "      <th>3</th>\n",
       "      <td>0.055953</td>\n",
       "      <td>0.445941</td>\n",
       "      <td>0.9045</td>\n",
       "      <td>244.015770</td>\n",
       "    </tr>\n",
       "  </tbody>\n",
       "</table>\n",
       "</div>\n",
       "      <button class=\"colab-df-convert\" onclick=\"convertToInteractive('df-3b6b1911-13c3-4ae8-8fbc-d138b94d6b79')\"\n",
       "              title=\"Convert this dataframe to an interactive table.\"\n",
       "              style=\"display:none;\">\n",
       "        \n",
       "  <svg xmlns=\"http://www.w3.org/2000/svg\" height=\"24px\"viewBox=\"0 0 24 24\"\n",
       "       width=\"24px\">\n",
       "    <path d=\"M0 0h24v24H0V0z\" fill=\"none\"/>\n",
       "    <path d=\"M18.56 5.44l.94 2.06.94-2.06 2.06-.94-2.06-.94-.94-2.06-.94 2.06-2.06.94zm-11 1L8.5 8.5l.94-2.06 2.06-.94-2.06-.94L8.5 2.5l-.94 2.06-2.06.94zm10 10l.94 2.06.94-2.06 2.06-.94-2.06-.94-.94-2.06-.94 2.06-2.06.94z\"/><path d=\"M17.41 7.96l-1.37-1.37c-.4-.4-.92-.59-1.43-.59-.52 0-1.04.2-1.43.59L10.3 9.45l-7.72 7.72c-.78.78-.78 2.05 0 2.83L4 21.41c.39.39.9.59 1.41.59.51 0 1.02-.2 1.41-.59l7.78-7.78 2.81-2.81c.8-.78.8-2.07 0-2.86zM5.41 20L4 18.59l7.72-7.72 1.47 1.35L5.41 20z\"/>\n",
       "  </svg>\n",
       "      </button>\n",
       "      \n",
       "  <style>\n",
       "    .colab-df-container {\n",
       "      display:flex;\n",
       "      flex-wrap:wrap;\n",
       "      gap: 12px;\n",
       "    }\n",
       "\n",
       "    .colab-df-convert {\n",
       "      background-color: #E8F0FE;\n",
       "      border: none;\n",
       "      border-radius: 50%;\n",
       "      cursor: pointer;\n",
       "      display: none;\n",
       "      fill: #1967D2;\n",
       "      height: 32px;\n",
       "      padding: 0 0 0 0;\n",
       "      width: 32px;\n",
       "    }\n",
       "\n",
       "    .colab-df-convert:hover {\n",
       "      background-color: #E2EBFA;\n",
       "      box-shadow: 0px 1px 2px rgba(60, 64, 67, 0.3), 0px 1px 3px 1px rgba(60, 64, 67, 0.15);\n",
       "      fill: #174EA6;\n",
       "    }\n",
       "\n",
       "    [theme=dark] .colab-df-convert {\n",
       "      background-color: #3B4455;\n",
       "      fill: #D2E3FC;\n",
       "    }\n",
       "\n",
       "    [theme=dark] .colab-df-convert:hover {\n",
       "      background-color: #434B5C;\n",
       "      box-shadow: 0px 1px 3px 1px rgba(0, 0, 0, 0.15);\n",
       "      filter: drop-shadow(0px 1px 2px rgba(0, 0, 0, 0.3));\n",
       "      fill: #FFFFFF;\n",
       "    }\n",
       "  </style>\n",
       "\n",
       "      <script>\n",
       "        const buttonEl =\n",
       "          document.querySelector('#df-3b6b1911-13c3-4ae8-8fbc-d138b94d6b79 button.colab-df-convert');\n",
       "        buttonEl.style.display =\n",
       "          google.colab.kernel.accessAllowed ? 'block' : 'none';\n",
       "\n",
       "        async function convertToInteractive(key) {\n",
       "          const element = document.querySelector('#df-3b6b1911-13c3-4ae8-8fbc-d138b94d6b79');\n",
       "          const dataTable =\n",
       "            await google.colab.kernel.invokeFunction('convertToInteractive',\n",
       "                                                     [key], {});\n",
       "          if (!dataTable) return;\n",
       "\n",
       "          const docLinkHtml = 'Like what you see? Visit the ' +\n",
       "            '<a target=\"_blank\" href=https://colab.research.google.com/notebooks/data_table.ipynb>data table notebook</a>'\n",
       "            + ' to learn more about interactive tables.';\n",
       "          element.innerHTML = '';\n",
       "          dataTable['output_type'] = 'display_data';\n",
       "          await google.colab.output.renderOutput(dataTable, element);\n",
       "          const docLink = document.createElement('div');\n",
       "          docLink.innerHTML = docLinkHtml;\n",
       "          element.appendChild(docLink);\n",
       "        }\n",
       "      </script>\n",
       "    </div>\n",
       "  </div>\n",
       "  "
      ],
      "text/plain": [
       "       Training Loss  Valid. Loss  Valid. Accur.  Training Time\n",
       "epoch                                                          \n",
       "1           0.259982     0.236977         0.9130     244.687517\n",
       "2           0.131684     0.345489         0.9025     244.468211\n",
       "3           0.055953     0.445941         0.9045     244.015770"
      ]
     },
     "execution_count": 34,
     "metadata": {},
     "output_type": "execute_result"
    }
   ],
   "source": [
    "# training statistics dataframe\n",
    "df_stats = pd.DataFrame(data=training_stats)\n",
    "df_stats = df_stats.set_index('epoch')\n",
    "df_stats"
   ]
  },
  {
   "cell_type": "code",
   "execution_count": 35,
   "id": "rNk0_Jfdkh7t",
   "metadata": {
    "colab": {
     "base_uri": "https://localhost:8080/",
     "height": 518
    },
    "id": "rNk0_Jfdkh7t",
    "outputId": "c0626836-2717-4ad1-da16-1843bc2143aa"
   },
   "outputs": [
    {
     "data": {
      "image/png": "[encoded data removed]",
      "text/plain": [
       "<Figure size 1152x576 with 1 Axes>"
      ]
     },
     "metadata": {
      "needs_background": "light"
     },
     "output_type": "display_data"
    }
   ],
   "source": [
    "%matplotlib inline\n",
    "# Plot the learning curve.\n",
    "plt.figure(figsize=(16,8))\n",
    "plt.plot(df_stats['Training Loss'], 'b-o', label=\"Training\")\n",
    "plt.plot(df_stats['Valid. Loss'], 'g-o', label=\"Validation\")\n",
    "\n",
    "# Label the plot.\n",
    "plt.title(\"Training & Validation Loss\")\n",
    "plt.xlabel(\"Epoch\")\n",
    "plt.ylabel(\"Loss\")\n",
    "plt.legend()\n",
    "plt.show()"
   ]
  },
  {
   "cell_type": "markdown",
   "id": "e08faba9-8720-4c4a-9e13-421186939687",
   "metadata": {
    "id": "e08faba9-8720-4c4a-9e13-421186939687"
   },
   "source": [
    "We can see immediately that the validation loss increases every epoch. This suggests that our model is overfitting: it is performing less well on unseen data as it is further trained. This corresponds to the better validation accuracy of 91.3% in the first epoch as well.\n",
    "\n",
    "To solve for this, we should take the parameters associated with the first epoch. We can implement early stopping or save each model in order to do this. However, given we have only trained on 3 epochs and they are all relatively similar, for simplicity we will go ahead with the 3rd epoch model that is only slightly worse.\n",
    "\n",
    "Overall, however, we are getting roughly 90% of our predictions right on the validation dataset. This is a strong performance and much better than just random guessing (which would be 50%). This performance is aided by the various batches we separate our data into and the tuning of our model as we progress through training. This is done via the AdamW optimizer and the linear learning rate scheduler.\n",
    "\n",
    "We can evaluate this performance on an unseen test dataset below:"
   ]
  },
  {
   "cell_type": "markdown",
   "id": "Q5qznzRRH-Z1",
   "metadata": {
    "id": "Q5qznzRRH-Z1"
   },
   "source": [
    "### Test Set Performance"
   ]
  },
  {
   "cell_type": "code",
   "execution_count": 36,
   "id": "a8f73aac-3356-4a9e-82a1-191300cd10e8",
   "metadata": {
    "id": "a8f73aac-3356-4a9e-82a1-191300cd10e8"
   },
   "outputs": [],
   "source": [
    "# we have our test data from above that has alread been tokenized\n",
    "# X_test, attn_test, y_test, and converted into tensors.\n",
    "\n",
    "test_dataset = TensorDataset(X_test, attn_test, y_test)\n",
    "test_sampler = SequentialSampler(test_dataset)\n",
    "# we use same batch size as above\n",
    "test_dataloader = DataLoader(test_dataset, sampler=test_sampler, batch_size=batch_size)"
   ]
  },
  {
   "cell_type": "code",
   "execution_count": 38,
   "id": "Au0k312wIu74",
   "metadata": {
    "colab": {
     "base_uri": "https://localhost:8080/"
    },
    "id": "Au0k312wIu74",
    "outputId": "ee937dac-f155-4da2-fb27-30141e5058d6"
   },
   "outputs": [
    {
     "name": "stdout",
     "output_type": "stream",
     "text": [
      "DONE.\n"
     ]
    }
   ],
   "source": [
    "# model in eval mode\n",
    "model.eval()\n",
    "\n",
    "# need storage for predictions and true labels\n",
    "predictions = []\n",
    "true_labels = []\n",
    "\n",
    "print(\"Testing model on test data...\")\n",
    "for batch in test_dataloader:\n",
    "\n",
    "    batch = tuple(t.to(device) for t in batch)\n",
    "    # unpack\n",
    "    b_input_ids, b_input_mask, b_labels = batch\n",
    "    \n",
    "    # because not doing backprop again, no grad calcs\n",
    "    with torch.no_grad():\n",
    "        # forward pass\n",
    "        result = model(b_input_ids,\n",
    "                      attention_mask=b_input_mask,\n",
    "                      return_dict=True)\n",
    "\n",
    "    # get logits\n",
    "    logits = result.logits\n",
    "\n",
    "    # move to cpu\n",
    "    logits = logits.detach().cpu().numpy()\n",
    "    label_ids = b_labels.to('cpu').numpy()\n",
    "    \n",
    "    # store\n",
    "    predictions.append(logits)\n",
    "    true_labels.append(label_ids)\n",
    "\n",
    "print(\"Predictions output.\")\n",
    "print('Model testing done.')"
   ]
  },
  {
   "cell_type": "code",
   "execution_count": 53,
   "id": "Fq-BTpEhLU9D",
   "metadata": {
    "id": "Fq-BTpEhLU9D"
   },
   "outputs": [],
   "source": [
    "# final prediction calc\n",
    "final_pred_list = []\n",
    "for batch in predictions:\n",
    "    for j in batch:\n",
    "        final_pred_list.append(np.argmax(j))\n",
    "\n",
    "# flatten nested true label array\n",
    "true_label_list = list(np.concatenate(true_labels).flat)"
   ]
  },
  {
   "cell_type": "code",
   "execution_count": 56,
   "id": "oWl4KbbsMUti",
   "metadata": {
    "colab": {
     "base_uri": "https://localhost:8080/",
     "height": 479
    },
    "id": "oWl4KbbsMUti",
    "outputId": "74b80e59-ff3f-452b-f95a-7215a83bc721"
   },
   "outputs": [
    {
     "name": "stdout",
     "output_type": "stream",
     "text": [
      "0.8965\n"
     ]
    },
    {
     "data": {
      "image/png": "[encoded data removed]",
      "text/plain": [
       "<Figure size 432x288 with 1 Axes>"
      ]
     },
     "metadata": {},
     "output_type": "display_data"
    },
    {
     "name": "stdout",
     "output_type": "stream",
     "text": [
      "              precision    recall  f1-score   support\n",
      "\n",
      "  bad review       0.91      0.89      0.90      1036\n",
      " good review       0.88      0.91      0.89       964\n",
      "\n",
      "    accuracy                           0.90      2000\n",
      "   macro avg       0.90      0.90      0.90      2000\n",
      "weighted avg       0.90      0.90      0.90      2000\n",
      "\n"
     ]
    }
   ],
   "source": [
    "# model test function\n",
    "def eval_model(predictions, true_labels):\n",
    "    print(accuracy_score(true_labels, predictions))\n",
    "    # Compute fpr, tpr, thresholds and roc auc\n",
    "    fpr, tpr, thresholds = roc_curve(np.array(true_labels), np.array(predictions))\n",
    "    roc_auc = auc(fpr, tpr)\n",
    "\n",
    "    # Plot ROC curve\n",
    "    plt.plot(fpr, tpr, label='ROC curve (area = %0.3f)' % roc_auc)\n",
    "    plt.plot([0, 1], [0, 1], 'k--')  # random predictions curve\n",
    "    plt.xlim([0.0, 1.0])\n",
    "    plt.ylim([0.0, 1.0])\n",
    "    plt.xlabel('False Positive Rate or (1 - Specifity)')\n",
    "    plt.ylabel('True Positive Rate or (Sensitivity)')\n",
    "    plt.title('Receiver Operating Characteristic')\n",
    "    plt.legend(loc=\"lower right\")\n",
    "    plt.show()\n",
    "    print(classification_report(true_labels, np.array(predictions), target_names=[\"bad review\", \"good review\"]))\n",
    "\n",
    "eval_model(final_pred_list, true_label_list)\n"
   ]
  },
  {
   "cell_type": "code",
   "execution_count": 61,
   "id": "RiQdQ5yJT2J2",
   "metadata": {
    "colab": {
     "base_uri": "https://localhost:8080/"
    },
    "id": "RiQdQ5yJT2J2",
    "outputId": "a4aa5f0c-c404-4e9a-9ebc-fb4e93a92029"
   },
   "outputs": [
    {
     "name": "stdout",
     "output_type": "stream",
     "text": [
      "Review: i always wrote this series off as being a complete stink-fest because jim belushi was involved in it, and heavily. but then one day a tragic happenstance occurred. after a white sox game ended i realized that the remote was all the way on the other side of the room somehow. now i could have just gotten up and walked across the room to get the remote, or even to the tv to turn the channel. but then why not just get up and walk across the country to watch tv in another state? nuts to that, i said. so i decided to just hang tight on the couch and take whatever fate had in store for me. what fate had in store was an episode of this show, an episode about which i remember very little except that i had once again made a very broad, general sweeping blanket judgment based on zero objective or experiential evidence with nothing whatsoever to back my opinions up with, and once again i was completely right! this show is a total crud-pie! belushi has all the comedic delivery of a hairy lighthouse foghorn. the women are physically attractive but too stepford-is to elicit any real feeling from the viewer. there is absolutely no reason to stop yourself from running down to the local tv station with a can of gasoline and a flamethrower and sending every copy of this mutt howling back to hell.  except..  except for the wonderful comic sty lings of larry joe campbell, americas greatest comic character actor. this guy plays belushis brother-in-law, andy, and he is gold. how good is he really? well, aside from being funny, his job is to make belushi look good. thats like trying to make butt warts look good. but campbell pulls it off with style. someone should invent a nobel prize in comic buffoonery so he can win it every year. without larry joe this show would consist of a slightly vacant looking courtney thorne-smith smacking belushi over the head with a frying pan while he alternately beats his chest and plays with the straw on the floor of his cage. 5 stars for larry joe campbell designated comedic bacon because he improves the flavor of everything hes in!\n",
      "True Label: 0\n",
      "Predicted Label: 0\n",
      "Tokenisation: \n",
      " tensor([  101,  1045,  2467,  2626,  2023,  2186,  2125,  2004,  2108,  1037,\n",
      "         3143, 27136,  1011, 17037,  2138,  3958, 19337, 20668,  2072,  2001,\n",
      "         2920,  1999,  2009,  1010,  1998,  4600,  1012,  2021,  2059,  2028,\n",
      "         2154,  1037, 13800,  6433, 26897,  4158,  1012,  2044,  1037,  2317,\n",
      "         9175,  2208,  3092,  1045,  3651,  2008,  1996,  6556,  2001,  2035,\n",
      "         1996,  2126,  2006,  1996,  2060,  2217,  1997,  1996,  2282,  5064,\n",
      "         1012,  2085,  1045,  2071,  2031,  2074,  5407,  2039,  1998,  2939,\n",
      "         2408,  1996,  2282,  2000,  2131,  1996,  6556,  1010,  2030,  2130,\n",
      "         2000,  1996,  2694,  2000,  2735,  1996,  3149,  1012,  2021,  2059,\n",
      "         2339,  2025,  2074,  2131,  2039,  1998,  3328,  2408,  1996,  2406,\n",
      "         2000,  3422,  2694,  1999,  2178,  2110,  1029, 12264,  2000,  2008,\n",
      "         1010,  1045,  2056,  1012,  2061,  1045,  2787,  2000,  2074,  6865,\n",
      "         4389,  2006,  1996,  6411,  1998,  2202,  3649,  6580,  2018,  1999,\n",
      "         3573,  2005,  2033,  1012,  2054,  6580,  2018,  1999,  3573,  2001,\n",
      "         2019,  2792,  1997,  2023,  2265,  1010,  2019,  2792,  2055,  2029,\n",
      "         1045,  3342,  2200,  2210,  3272,  2008,  1045,  2018,  2320,  2153,\n",
      "         2081,  1037,  2200,  5041,  1010,  2236, 12720,  8768,  8689,  2241,\n",
      "         2006,  5717,  7863,  2030,  4654,  4842, 11638,  4818,  3350,  2007,\n",
      "         2498, 18971,  2000,  2067,  2026, 10740,  2039,  2007,  1010,  1998,\n",
      "         2320,  2153,  1045,  2001,  3294,  2157,   999,  2023,  2265,  2003,\n",
      "         1037,  2561, 13675,  6784,  1011, 11345,   999, 19337, 20668,  2072,\n",
      "         2038,  2035,  1996, 21699,  6959,  1997,  1037, 15892, 10171,  9666,\n",
      "         9769,  1012,  1996,  2308,  2024,  8186,  8702,  2021,  2205,  3357,\n",
      "         3877,  1011,  2003,  2000, 12005, 26243,  2151,  2613,  3110,  2013,\n",
      "         1996, 13972,  1012,  2045,  2003,  7078,  2053,  3114,  2000,  2644,\n",
      "         4426,  2013,  2770,  2091,  2000,   102])\n"
     ]
    }
   ],
   "source": [
    "# example classification\n",
    "print(\"Review:\", test_data['text'][0])\n",
    "print(\"True Label:\", true_label_list[0])\n",
    "print(\"Predicted Label:\", final_pred_list[0])\n",
    "print(\"Tokenisation: \\n\", X_test[0])"
   ]
  },
  {
   "cell_type": "markdown",
   "id": "09rgy7a2P89L",
   "metadata": {
    "id": "09rgy7a2P89L"
   },
   "source": [
    "Here we measure the performance of our final model on a completely unseen test dataset. We do so by outputting an ROC curve and the associated accuracy, recall, precision, and f1-score. We see our accuracy for this epoch 3 model is roughly 90%. The precision for a bad review is 91% whereas for a good review it is 88%. This means out of the positive values (1), the model does better at getting true postitives for bad reviews versus good reviews. Inverse values are seen in recall to reflect this as well. \n",
    "\n",
    "The ROC curve is near the top left of the graph. This is good, indicating few type 1 and type 2 errors.\n",
    "\n",
    "Finally, we see an example review with the true and predicted label. As we can see, the review is quite convoluted. The author describes the film as being bad but certain actors' performances being good. This demonstrates the potential difficulty of the task at hand, despite my model getting it right with use of the tokenized input shown as well.\n"
   ]
  },
  {
   "cell_type": "markdown",
   "id": "3ab8d0ca-a507-45b7-a0de-23176b6faf57",
   "metadata": {
    "id": "3ab8d0ca-a507-45b7-a0de-23176b6faf57"
   },
   "source": [
    "### Interpretation"
   ]
  },
  {
   "cell_type": "markdown",
   "id": "6e154115-8b72-43a1-ae1e-1c76cf31e242",
   "metadata": {
    "id": "6e154115-8b72-43a1-ae1e-1c76cf31e242"
   },
   "source": [
    "This model is performing particularly well given all of computational constraints we had to consider in developing the model. These weaknesses include:\n",
    "\n",
    "- Using DistilBERT rather than base BERT or even large BERT.\n",
    "- Limiting the max length when tokenizing to only 256. While 512 is the max for BERT and even that would have truncated a lot of information from our model (some text lengths were up to and over 1000 tokens), we had to constrain to 256 for computational reasons.\n",
    "- Limiting the amount of data. We had to take a quarter of the total data available, again for computational reasons.\n",
    "- Limiting number of epochs. If we have a bigger batch size and potentially lower the learning rate, we might be able to tune our model further, however large amounts of cross validation would be necessary, also creating computational costs for our GPU.\n",
    "\n",
    "Had we not made these \"sacrifices\" in our model's performance for making this demonstration project feasible within Collab's environment, we likely would see an even better performance. The model does have some strengths as well, however:\n",
    "\n",
    "- DistilBERT is still a very robust model and performs to a high standard relative to other non-BERT models.\n",
    "- It is modular. We can easily change the hyperparameters we use to increase the performance of our model depending on the computational performance we have in any circumstance.\n",
    "- It is relatively interpretable. We know what is happening as the BERT trains, we can see what parts include the forward pass and backpropagation, and the output of the model is easy to evaluate.\n",
    " \n",
    "If I had more time and resources, I would use large BERT, use and gather even more IMDB data, use a BERT model that doesn't have a tokenization length constraint of 512, test the best max_length value and use it so that we truncate a limited amount of data, and cross validate using different hyperparameters to test the performance of my model and find the best configuration.\n",
    "\n",
    "If working on a similar problem but different dataset, I would also be concious of the variations in types of text that BERT works with and perform very specific text cleaning to optimise the input of that text. I likely could have done this more here as well, however, my cleaning was up to and beyond the standard necessary for this demonstration"
   ]
  },
  {
   "cell_type": "markdown",
   "id": "2325f541-068d-4a5d-bfe0-7f51116591c2",
   "metadata": {
    "id": "2325f541-068d-4a5d-bfe0-7f51116591c2"
   },
   "source": [
    "---"
   ]
  },
  {
   "cell_type": "markdown",
   "id": "197fab70-301b-4b53-8adf-0010abad2777",
   "metadata": {
    "id": "197fab70-301b-4b53-8adf-0010abad2777"
   },
   "source": [
    "### References"
   ]
  },
  {
   "cell_type": "markdown",
   "id": "b5355235-009c-447b-9da4-5a9b0982dc2e",
   "metadata": {
    "id": "b5355235-009c-447b-9da4-5a9b0982dc2e"
   },
   "source": [
    "aerin. (2019). What does model.train() do in PyTorch? Retrieved from https://stackoverflow.com/questions/51433378/what-does-model-train-do-in-pytorch\n",
    "\n",
    "Bricken, A. (2021). Does BERT Need Clean Data? Part 1: Data Cleaning. Retrieved from https://medium.com/towards-data-science/part-1-data-cleaning-does-bert-need-clean-data-6a50c9c6e9fd\n",
    "\n",
    "Bricken, A. (2021). Does BERT Need Clean Data? Part 2: Classification. Retrieved from https://medium.com/@Alexander.Bricken/does-bert-need-clean-data-part-2-classification-d29adf9f745a\n",
    "\n",
    "HuggingFace. (2022). BERT. Retrieved from https://huggingface.co/transformers/model_doc/bert.html#bertforsequenceclassification\n",
    "\n",
    "Jain, K. (2021). Movie Review Sentiment Analysis EDA | BERT. Retrieved from https://www.kaggle.com/kritanjalijain/movie-review-sentiment-analysis-eda-bert\n",
    "\n",
    "McCormick, C. (2019). BERT Fine-Tuning Tutorial with PyTorch. Retrieved ftom https://mccormickml.com/2019/07/22/BERT-fine-tuning/\n",
    "\n",
    "Morris, J. (n.d.) Does Model Size Matter? A Comparison of BERT and DistilBERT. Retrieved from https://wandb.ai/jack-morris/david-vs-goliath/reports/Does-Model-Size-Matter-A-Comparison-of-BERT-and-DistilBERT--VmlldzoxMDUxNzU\n",
    "\n",
    "Thakur, A. (n.d.) How To Use GPU with PyTorch. Retrieved from https://wandb.ai/wandb/common-ml-errors/reports/How-To-Use-GPU-with-PyTorch---VmlldzozMzAxMDk \n",
    "\n",
    "user1424739. (2017). Why do we need to call zero_grad() in PyTorch?  Retrieved from https://stackoverflow.com/questions/48001598/why-do-we-need-to-call-zero-grad-in-pytorch \n",
    "\n",
    "Yuan, Z. (2020). IMDB dataset (Sentiment analysis) in CSV format. Retrieved from https://www.kaggle.com/columbine/imdb-dataset-sentiment-analysis-in-csv-format"
   ]
  }
 ],
 "metadata": {
  "accelerator": "GPU",
  "colab": {
   "collapsed_sections": [
    "3ab8d0ca-a507-45b7-a0de-23176b6faf57",
    "197fab70-301b-4b53-8adf-0010abad2777"
   ],
   "name": "imdb-sentiment-classification.ipynb",
   "provenance": []
  },
  "kernelspec": {
   "display_name": "Python 3 (ipykernel)",
   "language": "python",
   "name": "python3"
  },
  "language_info": {
   "codemirror_mode": {
    "name": "ipython",
    "version": 3
   },
   "file_extension": ".py",
   "mimetype": "text/x-python",
   "name": "python",
   "nbconvert_exporter": "python",
   "pygments_lexer": "ipython3",
   "version": "3.8.12"
  }
 },
 "nbformat": 4,
 "nbformat_minor": 5
}
